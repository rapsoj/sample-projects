{
 "cells": [
  {
   "cell_type": "markdown",
   "metadata": {},
   "source": [
    "# Dengue Predictions"
   ]
  },
  {
   "cell_type": "markdown",
   "metadata": {},
   "source": [
    "**1. Prepare Workspace**"
   ]
  },
  {
   "cell_type": "code",
   "execution_count": 1,
   "metadata": {},
   "outputs": [],
   "source": [
    "# Import libraries\n",
    "import numpy as np\n",
    "import pandas as pd\n",
    "import matplotlib.pyplot as plt\n",
    "import seaborn as sns\n",
    "\n",
    "from sklearn.model_selection import train_test_split\n",
    "from sklearn.ensemble import RandomForestRegressor\n",
    "from sklearn.metrics import mean_absolute_error, mean_squared_error\n",
    "\n",
    "import datetime\n",
    "green, orange = '#00A57B', '#EF5300'\n",
    "pd.set_option('display.max_columns', None)\n",
    "\n",
    "# Import data\n",
    "df = pd.read_csv('dengue_features_test.csv')"
   ]
  },
  {
   "cell_type": "markdown",
   "metadata": {},
   "source": [
    "**2. Perform Basic Cleaning**"
   ]
  },
  {
   "cell_type": "code",
   "execution_count": 2,
   "metadata": {},
   "outputs": [],
   "source": [
    "# Drop duplicated column\n",
    "df = df.drop(['reanalysis_sat_precip_amt_mm'], axis=1)\n",
    "\n",
    "# Extract 'month' from 'week_start_date'\n",
    "df['week_start_date'] = pd.to_datetime(df['week_start_date'])\n",
    "df['month'] = df['week_start_date'].dt.month\n",
    "\n",
    "# Extract 'season from 'week_start_date' and drop\n",
    "df['time.season'] = np.where(df['month'].between(5,10), 'may-oct', 'nov-apr')\n",
    "df['time.season'] = df['time.season'].replace({'may-oct': 1, 'nov-apr': -1})\n",
    "df = df.drop(['week_start_date'], axis=1)\n",
    "\n",
    "# Reorganize column names\n",
    "names = {'year': 'time.year', 'weekofyear': 'time.weekofyear','ndvi_ne': 'vege.ndvi_ne', 'ndvi_nw': 'vege.ndvi_nw',\n",
    "         'ndvi_se': 'vege.ndvi_se', 'ndvi_sw': 'vege.ndvi_sw', 'precipitation_amt_mm': 'prec.precipitation_amt_mm',\n",
    "         'reanalysis_air_temp_k': 'temp.reanalysis_air_temp_k', 'reanalysis_avg_temp_k': 'temp.reanalysis_avg_temp_k',\n",
    "         'reanalysis_dew_point_temp_k': 'temp.reanalysis_dew_point_temp_k', 'reanalysis_max_air_temp_k':\n",
    "         'temp.reanalysis_max_air_temp_k', 'reanalysis_min_air_temp_k': 'temp.reanalysis_min_air_temp_k',\n",
    "         'reanalysis_precip_amt_kg_per_m2': 'prec.reanalysis_precip_amt_kg_per_m2', 'total_cases': 'y.total_cases',\n",
    "         'reanalysis_relative_humidity_percent': 'humi.reanalysis_relative_humidity_percent', 'month': 'time.month',\n",
    "         'reanalysis_specific_humidity_g_per_kg': 'humi.reanalysis_specific_humidity_g_per_kg', 'reanalysis_tdtr_k':\n",
    "         'temp.reanalysis_tdtr_k', 'station_avg_temp_c': 'temp.station_avg_temp_c', 'station_diur_temp_rng_c':\n",
    "         'temp.station_diur_temp_rng_c', 'station_max_temp_c': 'temp.station_max_temp_c', 'station_min_temp_c':\n",
    "         'temp.station_min_temp_c', 'station_precip_mm': 'prec.station_precip_mm', 'season': 'time.season',\n",
    "         'ndvi_total': 'vege.ndvi_total'}\n",
    "df = df.rename(names, axis=1)"
   ]
  },
  {
   "cell_type": "markdown",
   "metadata": {},
   "source": [
    "**3. Transform Categorical Variables**"
   ]
  },
  {
   "cell_type": "code",
   "execution_count": 3,
   "metadata": {},
   "outputs": [],
   "source": [
    "# Make 'time.month' and 'time.weekofyear' cyclical\n",
    "df['time.month_sin'] = np.sin(2 * np.pi * df['time.month']/12)\n",
    "df['time.month_cos'] = np.cos(2 * np.pi * df['time.month']/12)\n",
    "\n",
    "df['time.weekofyear_sin'] = np.sin(2 * np.pi * df['time.weekofyear']/52)\n",
    "df['time.weekofyear_cos'] = np.cos(2 * np.pi * df['time.weekofyear']/52)\n",
    "\n",
    "# Effect code'city'\n",
    "df['city'] = df['city'].replace({'sj': 1, 'iq': -1})\n",
    "\n",
    "# Make times continuous\n",
    "df['time.year'] = df['time.year'].astype(float)\n",
    "df['time.month'] = df['time.month'].astype(float)\n",
    "df['time.weekofyear'] = df['time.weekofyear'].astype(float)"
   ]
  },
  {
   "cell_type": "markdown",
   "metadata": {},
   "source": [
    "**4. Predict Missing Information**"
   ]
  },
  {
   "cell_type": "code",
   "execution_count": 4,
   "metadata": {},
   "outputs": [],
   "source": [
    "# Combine with partially cleaned data\n",
    "data = pd.read_csv('dengue_partially_cleaned_data.csv')\n",
    "df = pd.concat([df, data], sort=False)\n",
    "\n",
    "df = df.reset_index().drop(['index'], axis=1)\n",
    "\n",
    "# Make dictionaries for weekly averages for each city\n",
    "sj_dict = df[df['city']==1].groupby('time.weekofyear').mean().fillna(method='ffill').to_dict()\n",
    "iq_dict = df[df['city']==-1].groupby('time.weekofyear').mean().fillna(method='ffill').to_dict()"
   ]
  },
  {
   "cell_type": "markdown",
   "metadata": {},
   "source": [
    "**i. vege.ndvi_ne**"
   ]
  },
  {
   "cell_type": "code",
   "execution_count": 5,
   "metadata": {},
   "outputs": [
    {
     "name": "stdout",
     "output_type": "stream",
     "text": [
      "OOB Score:  0.7961721821286349\n",
      "OOB Score 2:  0.5993591551682438\n"
     ]
    }
   ],
   "source": [
    "# Predict and replace initial 'vege.ndvi_ne' data\n",
    "ndvi_ne_train = df.dropna()\n",
    "\n",
    "X = ndvi_ne_train.drop(['y.total_cases', 'vege.ndvi_ne'], axis=1)\n",
    "y = ndvi_ne_train['vege.ndvi_ne']\n",
    "rfc_ndvi_ne = RandomForestRegressor(n_estimators=1000, oob_score=True)\n",
    "\n",
    "rfc_ndvi_ne.fit(X,y)\n",
    "print('OOB Score: ', rfc_ndvi_ne.oob_score_)\n",
    "\n",
    "ndvi_ne_predict = df.drop(['y.total_cases', 'vege.ndvi_ne'], axis=1).dropna()\n",
    "ndvi_ne_predict['ndvi_ne_predict'] = rfc_ndvi_ne.predict(ndvi_ne_predict)\n",
    "\n",
    "df = df.join(ndvi_ne_predict['ndvi_ne_predict'])\n",
    "df['vege.ndvi_ne'] = np.where(df['vege.ndvi_ne'].isna(), df['ndvi_ne_predict'], df['vege.ndvi_ne'])\n",
    "df = df.drop(['ndvi_ne_predict'], axis=1)\n",
    "\n",
    "# Predict and replace remaining missing 'vege.ndvi_ne' data\n",
    "missing = ['vege.ndvi_nw', 'vege.ndvi_se', 'vege.ndvi_sw', 'prec.precipitation_amt_mm']\n",
    "subset = [i for i in list(df.columns) if i not in missing]\n",
    "ndvi_ne_train2 = df.drop(missing, axis=1).dropna(subset=subset)\n",
    "\n",
    "X = ndvi_ne_train2.drop(['y.total_cases', 'vege.ndvi_ne'], axis=1)\n",
    "y = ndvi_ne_train2['vege.ndvi_ne']\n",
    "rfc_ndvi_ne2 = RandomForestRegressor(n_estimators=1000, oob_score=True)\n",
    "\n",
    "rfc_ndvi_ne2.fit(X,y)\n",
    "print('OOB Score 2: ', rfc_ndvi_ne2.oob_score_)\n",
    "\n",
    "ndvi_ne_predict2 = df.drop(missing, axis=1).drop(['y.total_cases', 'vege.ndvi_ne'], axis=1).dropna()\n",
    "ndvi_ne_predict2['ndvi_ne_predict2'] = rfc_ndvi_ne2.predict(ndvi_ne_predict2)\n",
    "\n",
    "df = df.join(ndvi_ne_predict2['ndvi_ne_predict2'])\n",
    "df['vege.ndvi_ne'] = np.where(df['vege.ndvi_ne'].isna(), df['ndvi_ne_predict2'], df['vege.ndvi_ne'])\n",
    "df = df.drop(['ndvi_ne_predict2'], axis=1)\n",
    "\n",
    "df['vege.ndvi_ne'] = np.where(df['vege.ndvi_ne'].isna(), df['vege.ndvi_ne'].mean(), df['vege.ndvi_ne'])"
   ]
  },
  {
   "cell_type": "markdown",
   "metadata": {},
   "source": [
    "**ii. vege.ndvi_nw**"
   ]
  },
  {
   "cell_type": "code",
   "execution_count": 6,
   "metadata": {},
   "outputs": [
    {
     "name": "stdout",
     "output_type": "stream",
     "text": [
      "OOB Score:  0.7657007337416871\n",
      "OOB Score 2:  0.759770604607026\n"
     ]
    }
   ],
   "source": [
    "# Predict and replace initial 'vege.ndvi_nw' data\n",
    "ndvi_nw_train = df.dropna()\n",
    "\n",
    "X = ndvi_nw_train.drop(['y.total_cases', 'vege.ndvi_nw'], axis=1)\n",
    "y = ndvi_nw_train['vege.ndvi_nw']\n",
    "rfc_ndvi_nw = RandomForestRegressor(n_estimators=1000, oob_score=True)\n",
    "\n",
    "rfc_ndvi_nw.fit(X,y)\n",
    "print('OOB Score: ', rfc_ndvi_nw.oob_score_)\n",
    "\n",
    "ndvi_nw_predict = df.drop(['y.total_cases', 'vege.ndvi_nw'], axis=1).dropna()\n",
    "ndvi_nw_predict['ndvi_nw_predict'] = rfc_ndvi_nw.predict(ndvi_nw_predict)\n",
    "\n",
    "df = df.join(ndvi_nw_predict['ndvi_nw_predict'])\n",
    "df['vege.ndvi_nw'] = np.where(df['vege.ndvi_nw'].isna(), df['ndvi_nw_predict'], df['vege.ndvi_nw'])\n",
    "df = df.drop(['ndvi_nw_predict'], axis=1)\n",
    "\n",
    "# Predict and replace remaining missing 'vege.ndvi_nw' data\n",
    "missing = ['vege.ndvi_se', 'vege.ndvi_sw']\n",
    "subset = [i for i in list(df.columns) if i not in missing]\n",
    "ndvi_nw_train2 = df.drop(missing, axis=1).dropna(subset=subset)\n",
    "\n",
    "X = ndvi_nw_train2.drop(['y.total_cases', 'vege.ndvi_nw'], axis=1)\n",
    "y = ndvi_nw_train2['vege.ndvi_nw']\n",
    "rfc_ndvi_nw2 = RandomForestRegressor(n_estimators=1000, oob_score=True)\n",
    "\n",
    "rfc_ndvi_nw2.fit(X,y)\n",
    "print('OOB Score 2: ', rfc_ndvi_nw2.oob_score_)\n",
    "\n",
    "ndvi_nw_predict2 = df.drop(missing, axis=1).drop(['y.total_cases', 'vege.ndvi_nw'], axis=1).dropna()\n",
    "ndvi_nw_predict2['ndvi_nw_predict2'] = rfc_ndvi_nw2.predict(ndvi_nw_predict2)\n",
    "\n",
    "df = df.join(ndvi_nw_predict2['ndvi_nw_predict2'])\n",
    "df['vege.ndvi_nw'] = np.where(df['vege.ndvi_nw'].isna(), df['ndvi_nw_predict2'], df['vege.ndvi_nw'])\n",
    "df = df.drop(['ndvi_nw_predict2'], axis=1)\n",
    "\n",
    "df['vege.ndvi_nw'] = np.where(df['vege.ndvi_nw'].isna(), df['vege.ndvi_nw'].mean(), df['vege.ndvi_nw'])"
   ]
  },
  {
   "cell_type": "markdown",
   "metadata": {},
   "source": [
    "**iii. vege.ndvi_se**"
   ]
  },
  {
   "cell_type": "code",
   "execution_count": 7,
   "metadata": {},
   "outputs": [
    {
     "name": "stdout",
     "output_type": "stream",
     "text": [
      "OOB Score:  0.6953590261800198\n",
      "OOB Score 2:  0.49709352659207307\n"
     ]
    }
   ],
   "source": [
    "# Predict and replace initial 'vege.ndvi_se' data\n",
    "ndvi_se_train = df.dropna()\n",
    "\n",
    "X = ndvi_se_train.drop(['y.total_cases', 'vege.ndvi_se'], axis=1)\n",
    "y = ndvi_se_train['vege.ndvi_se']\n",
    "rfc_ndvi_se = RandomForestRegressor(n_estimators=1000, oob_score=True)\n",
    "\n",
    "rfc_ndvi_se.fit(X,y)\n",
    "print('OOB Score: ', rfc_ndvi_se.oob_score_)\n",
    "\n",
    "ndvi_se_predict = df.drop(['y.total_cases', 'vege.ndvi_se'], axis=1).dropna()\n",
    "ndvi_se_predict['ndvi_se_predict'] = rfc_ndvi_se.predict(ndvi_se_predict)\n",
    "\n",
    "df = df.join(ndvi_se_predict['ndvi_se_predict'])\n",
    "df['vege.ndvi_se'] = np.where(df['vege.ndvi_se'].isna(), df['ndvi_se_predict'], df['vege.ndvi_se'])\n",
    "df = df.drop(['ndvi_se_predict'], axis=1)\n",
    "\n",
    "# Predict and replace remaining missing 'vege.ndvi_se' data\n",
    "missing = ['vege.ndvi_sw']\n",
    "subset = [i for i in list(df.columns) if i not in missing]\n",
    "ndvi_se_train2 = df.drop(missing, axis=1).dropna(subset=subset)\n",
    "\n",
    "X = ndvi_se_train2.drop(['y.total_cases', 'vege.ndvi_se'], axis=1)\n",
    "y = ndvi_se_train2['vege.ndvi_se']\n",
    "rfc_ndvi_se2 = RandomForestRegressor(n_estimators=1000, oob_score=True)\n",
    "\n",
    "rfc_ndvi_se2.fit(X,y)\n",
    "print('OOB Score 2: ', rfc_ndvi_se2.oob_score_)\n",
    "\n",
    "ndvi_se_predict2 = df.drop(missing, axis=1).drop(['y.total_cases', 'vege.ndvi_se'], axis=1).dropna()\n",
    "ndvi_se_predict2['ndvi_se_predict2'] = rfc_ndvi_se2.predict(ndvi_se_predict2)\n",
    "\n",
    "df = df.join(ndvi_se_predict2['ndvi_se_predict2'])\n",
    "df['vege.ndvi_se'] = np.where(df['vege.ndvi_se'].isna(), df['ndvi_se_predict2'], df['vege.ndvi_se'])\n",
    "df = df.drop(['ndvi_se_predict2'], axis=1)\n",
    "\n",
    "df['vege.ndvi_se'] = np.where(df['vege.ndvi_se'].isna(), df['vege.ndvi_se'].mean(), df['vege.ndvi_se'])"
   ]
  },
  {
   "cell_type": "markdown",
   "metadata": {},
   "source": [
    "**iv. vege.ndvi_sw**"
   ]
  },
  {
   "cell_type": "code",
   "execution_count": 8,
   "metadata": {},
   "outputs": [
    {
     "name": "stdout",
     "output_type": "stream",
     "text": [
      "OOB Score:  0.7775416938768092\n"
     ]
    }
   ],
   "source": [
    "# Predict and replace initial 'vege.ndvi_sw' data\n",
    "ndvi_sw_train = df.dropna()\n",
    "\n",
    "X = ndvi_sw_train.drop(['y.total_cases', 'vege.ndvi_sw'], axis=1)\n",
    "y = ndvi_sw_train['vege.ndvi_sw']\n",
    "rfc_ndvi_sw = RandomForestRegressor(n_estimators=1000, oob_score=True)\n",
    "\n",
    "rfc_ndvi_sw.fit(X,y)\n",
    "print('OOB Score: ', rfc_ndvi_sw.oob_score_)\n",
    "\n",
    "ndvi_sw_predict = df.drop(['y.total_cases', 'vege.ndvi_sw'], axis=1).dropna()\n",
    "ndvi_sw_predict['ndvi_sw_predict'] = rfc_ndvi_sw.predict(ndvi_sw_predict)\n",
    "\n",
    "df = df.join(ndvi_sw_predict['ndvi_sw_predict'])\n",
    "df['vege.ndvi_sw'] = np.where(df['vege.ndvi_sw'].isna(), df['ndvi_sw_predict'], df['vege.ndvi_sw'])\n",
    "df = df.drop(['ndvi_sw_predict'], axis=1)\n",
    "\n",
    "df['vege.ndvi_sw'] = np.where(df['vege.ndvi_sw'].isna(), df['vege.ndvi_sw'].mean(), df['vege.ndvi_sw'])"
   ]
  },
  {
   "cell_type": "markdown",
   "metadata": {},
   "source": [
    "**v. temp.station_avg_temp_c**"
   ]
  },
  {
   "cell_type": "code",
   "execution_count": 9,
   "metadata": {},
   "outputs": [
    {
     "name": "stdout",
     "output_type": "stream",
     "text": [
      "OOB Score:  0.8217695649126368\n"
     ]
    }
   ],
   "source": [
    "# Predict and replace initial 'temp.station_avg_temp_c' data\n",
    "mis = ['temp.station_diur_temp_rng_c', 'prec.station_precip_mm', 'temp.station_max_temp_c', 'temp.station_min_temp_c']\n",
    "subset = [i for i in list(df.columns) if i not in mis]\n",
    "station_avg_temp_c_train = df.drop(mis, axis=1).dropna(subset=subset)\n",
    "\n",
    "X = station_avg_temp_c_train.drop(['y.total_cases', 'temp.station_avg_temp_c'], axis=1)\n",
    "y = station_avg_temp_c_train['temp.station_avg_temp_c']\n",
    "rfc_station_avg_temp_c = RandomForestRegressor(n_estimators=1000, oob_score=True)\n",
    "\n",
    "rfc_station_avg_temp_c.fit(X,y)\n",
    "print('OOB Score: ', rfc_station_avg_temp_c.oob_score_)\n",
    "\n",
    "station_avg_temp_c_predict = df.drop(mis + ['y.total_cases', 'temp.station_avg_temp_c'], axis=1).dropna()\n",
    "station_avg_temp_c_predict['station_avg_temp_c_predict'] = rfc_station_avg_temp_c.predict(station_avg_temp_c_predict)\n",
    "\n",
    "df = df.join(station_avg_temp_c_predict['station_avg_temp_c_predict'])\n",
    "preds, actual = df['station_avg_temp_c_predict'], df['temp.station_avg_temp_c']\n",
    "df['temp.station_avg_temp_c'] = np.where(df['temp.station_avg_temp_c'].isna(), preds, actual)\n",
    "df = df.drop(['station_avg_temp_c_predict'], axis=1)\n",
    "\n",
    "# Predict and replace missing 'temp.station_avg_temp_c' data\n",
    "temp, city, target = df['temp.station_avg_temp_c'], df['city'], 'temp.station_avg_temp_c'\n",
    "df[target] = np.where((temp.isna() & city == 1), df['time.weekofyear'].replace(sj_dict[target]), temp)\n",
    "df[target] = np.where((temp.isna() & city == -1), df['time.weekofyear'].replace(iq_dict[target]), temp)"
   ]
  },
  {
   "cell_type": "markdown",
   "metadata": {},
   "source": [
    "**vi. temp.station_diur_temp_rng_c**"
   ]
  },
  {
   "cell_type": "code",
   "execution_count": 10,
   "metadata": {},
   "outputs": [
    {
     "name": "stdout",
     "output_type": "stream",
     "text": [
      "OOB Score:  0.8002793779775578\n"
     ]
    }
   ],
   "source": [
    "# Predict and replace initial 'temp.station_diur_temp_rng_c' data\n",
    "mis = ['prec.station_precip_mm', 'temp.station_max_temp_c', 'temp.station_min_temp_c']\n",
    "subset = [i for i in list(df.columns) if i not in mis]\n",
    "station_diur_temp_rng_c_train = df.drop(mis, axis=1).dropna(subset=subset)\n",
    "\n",
    "X = station_diur_temp_rng_c_train.drop(['y.total_cases', 'temp.station_diur_temp_rng_c'], axis=1)\n",
    "y = station_diur_temp_rng_c_train['temp.station_diur_temp_rng_c']\n",
    "rfc_diur_temp_rng_c = RandomForestRegressor(n_estimators=1000, oob_score=True)\n",
    "\n",
    "rfc_diur_temp_rng_c.fit(X,y)\n",
    "print('OOB Score: ', rfc_diur_temp_rng_c.oob_score_)\n",
    "\n",
    "diur_temp_rng_c_predict = df.drop(mis + ['y.total_cases', 'temp.station_avg_temp_c'], axis=1).dropna()\n",
    "diur_temp_rng_c_predict['diur_temp_rng_c_predict'] = rfc_diur_temp_rng_c.predict(diur_temp_rng_c_predict)\n",
    "\n",
    "df = df.join(diur_temp_rng_c_predict['diur_temp_rng_c_predict'])\n",
    "preds, actual = df['diur_temp_rng_c_predict'], df['temp.station_diur_temp_rng_c']\n",
    "df['temp.station_diur_temp_rng_c'] = np.where(df['temp.station_diur_temp_rng_c'].isna(), preds, actual)\n",
    "df = df.drop(['diur_temp_rng_c_predict'], axis=1)\n",
    "\n",
    "# Predict and replace missing 'temp.station_diur_temp_rng_c' data\n",
    "temp, city, target = df['temp.station_diur_temp_rng_c'], df['city'], 'temp.station_diur_temp_rng_c'\n",
    "df[target] = np.where((temp.isna() & city == 1), df['time.weekofyear'].replace(sj_dict[target]), temp)\n",
    "df[target] = np.where((temp.isna() & city == -1), df['time.weekofyear'].replace(iq_dict[target]), temp)"
   ]
  },
  {
   "cell_type": "markdown",
   "metadata": {},
   "source": [
    "**vii. prec.station_precip_mm**"
   ]
  },
  {
   "cell_type": "code",
   "execution_count": 11,
   "metadata": {},
   "outputs": [
    {
     "name": "stdout",
     "output_type": "stream",
     "text": [
      "OOB Score:  0.3321535579792406\n"
     ]
    }
   ],
   "source": [
    "# Predict and replace initial 'prec.station_precip_mm' data\n",
    "missing = 'temp.station_min_temp_c'\n",
    "subset = [i for i in list(df.columns) if i != missing]\n",
    "station_precip_mm_train = df.drop(missing, axis=1).dropna(subset=subset)\n",
    "\n",
    "X = station_precip_mm_train.drop(['y.total_cases', 'prec.station_precip_mm'], axis=1)\n",
    "y = station_precip_mm_train['prec.station_precip_mm']\n",
    "rfc_station_precip_mm = RandomForestRegressor(n_estimators=1000, oob_score=True)\n",
    "\n",
    "rfc_station_precip_mm.fit(X,y)\n",
    "print('OOB Score: ', rfc_station_precip_mm.oob_score_)\n",
    "\n",
    "station_precip_mm_predict = df.drop(['y.total_cases', 'prec.station_precip_mm', missing], axis=1).dropna()\n",
    "station_precip_mm_predict['station_precip_mm_predict'] = rfc_station_precip_mm.predict(station_precip_mm_predict)\n",
    "\n",
    "df = df.join(station_precip_mm_predict['station_precip_mm_predict'])\n",
    "preds, actual = df['station_precip_mm_predict'], df['prec.station_precip_mm']\n",
    "df['prec.station_precip_mm'] = np.where(df['prec.station_precip_mm'].isna(), preds, actual)\n",
    "df = df.drop(['station_precip_mm_predict'], axis=1)\n",
    "\n",
    "# Predict and replace missing 'prec.station_precip_mm' data\n",
    "sj_station_precip_mm = df[df['city'] == 1]['prec.station_precip_mm'].mean()\n",
    "iq_station_precip_mm = df[df['city'] == -1]['prec.station_precip_mm'].mean()\n",
    "\n",
    "prec, city = df['prec.station_precip_mm'], df['city']\n",
    "df['prec.station_precip_mm'] = np.where((prec.isna() & city == 1), sj_station_precip_mm, prec)\n",
    "df['prec.station_precip_mm'] = np.where((prec.isna() & city == -1), iq_station_precip_mm, prec)"
   ]
  },
  {
   "cell_type": "markdown",
   "metadata": {},
   "source": [
    "**viii. temp.station_max_temp_c**"
   ]
  },
  {
   "cell_type": "code",
   "execution_count": 12,
   "metadata": {},
   "outputs": [
    {
     "name": "stdout",
     "output_type": "stream",
     "text": [
      "OOB Score:  0.8721323739367368\n"
     ]
    }
   ],
   "source": [
    "# Predict and replace initial 'temp.station_max_temp_c' data\n",
    "missing = 'temp.station_min_temp_c'\n",
    "subset = [i for i in list(df.columns) if i != missing]\n",
    "station_max_temp_c_train = df.drop(missing, axis=1).dropna(subset=subset)\n",
    "\n",
    "X = station_max_temp_c_train.drop(['y.total_cases', 'temp.station_max_temp_c'], axis=1)\n",
    "y = station_max_temp_c_train['temp.station_max_temp_c']\n",
    "rfc_station_max_temp_c = RandomForestRegressor(n_estimators=1000, oob_score=True)\n",
    "\n",
    "rfc_station_max_temp_c.fit(X,y)\n",
    "print('OOB Score: ', rfc_station_max_temp_c.oob_score_)\n",
    "\n",
    "station_max_temp_c_predict = df.drop(['y.total_cases', 'temp.station_max_temp_c', missing], axis=1).dropna()\n",
    "station_max_temp_c_predict['station_max_temp_c_predict'] = rfc_station_max_temp_c.predict(station_max_temp_c_predict)\n",
    "\n",
    "df = df.join(station_max_temp_c_predict['station_max_temp_c_predict'])\n",
    "preds, actual = df['station_max_temp_c_predict'], df['temp.station_max_temp_c']\n",
    "df['temp.station_max_temp_c'] = np.where(df['temp.station_max_temp_c'].isna(), preds, actual)\n",
    "df = df.drop(['station_max_temp_c_predict'], axis=1)\n",
    "\n",
    "# Predict and replace missing 'temp.station_max_temp_c' data\n",
    "temp, city, target = df['temp.station_max_temp_c'], df['city'], 'temp.station_max_temp_c'\n",
    "df[target] = np.where((temp.isna() & city == 1), df['time.weekofyear'].replace(sj_dict[target]), temp)\n",
    "df[target] = np.where((temp.isna() & city == -1), df['time.weekofyear'].replace(iq_dict[target]), temp)"
   ]
  },
  {
   "cell_type": "markdown",
   "metadata": {},
   "source": [
    "**ix. temp.station_min_temp_c**"
   ]
  },
  {
   "cell_type": "code",
   "execution_count": 13,
   "metadata": {},
   "outputs": [
    {
     "name": "stdout",
     "output_type": "stream",
     "text": [
      "OOB Score:  0.8197917044558559\n"
     ]
    }
   ],
   "source": [
    "# Predict and replace initial 'temp.station_min_temp_c' data\n",
    "station_min_temp_c_train = df.dropna()\n",
    "\n",
    "X = station_min_temp_c_train.drop(['y.total_cases', 'temp.station_min_temp_c'], axis=1)\n",
    "y = station_min_temp_c_train['temp.station_min_temp_c']\n",
    "rfc_station_min_temp_c = RandomForestRegressor(n_estimators=1000, oob_score=True)\n",
    "\n",
    "rfc_station_min_temp_c.fit(X,y)\n",
    "print('OOB Score: ', rfc_station_min_temp_c.oob_score_)\n",
    "\n",
    "station_min_temp_c_predict = df.drop(['y.total_cases', 'temp.station_min_temp_c', missing], axis=1).dropna()\n",
    "station_min_temp_c_predict['station_min_temp_c_predict'] = rfc_station_min_temp_c.predict(station_min_temp_c_predict)\n",
    "\n",
    "df = df.join(station_min_temp_c_predict['station_min_temp_c_predict'])\n",
    "preds, actual = df['station_min_temp_c_predict'], df['temp.station_min_temp_c']\n",
    "df['temp.station_min_temp_c'] = np.where(df['temp.station_min_temp_c'].isna(), preds, actual)\n",
    "df = df.drop(['station_min_temp_c_predict'], axis=1)"
   ]
  },
  {
   "cell_type": "markdown",
   "metadata": {},
   "source": [
    "**x. Remaining Values**"
   ]
  },
  {
   "cell_type": "code",
   "execution_count": 14,
   "metadata": {},
   "outputs": [],
   "source": [
    "# Estimate missing values for remaining items\n",
    "\n",
    "cols = list(df.columns)\n",
    "\n",
    "for i in cols:\n",
    "    if i != 'city' and i != 'y.total_cases' and i !='time.weekofyear':\n",
    "        df[i] = np.where((df[i].isna() & df['city'] == 1), df['time.weekofyear'].replace(sj_dict[i]), df[i])\n",
    "        df[i] = np.where((df[i].isna() & df['city'] == -1), df['time.weekofyear'].replace(iq_dict[i]), df[i])"
   ]
  },
  {
   "cell_type": "markdown",
   "metadata": {},
   "source": [
    "**5. Perform Feature Engineering**"
   ]
  },
  {
   "cell_type": "code",
   "execution_count": 15,
   "metadata": {},
   "outputs": [],
   "source": [
    "# Create a column for 'ndvi_total'\n",
    "df['vege.ndvi_total'] = df['vege.ndvi_sw'] + df['vege.ndvi_nw'] + df['vege.ndvi_se'] + df['vege.ndvi_ne']\n",
    "\n",
    "# Create columns for previous week climate and drop 'order'\n",
    "def get_last_week(year_week):\n",
    "    year = year_week[:4]\n",
    "    week = year_week[5:]\n",
    "    if int(week) > 1:\n",
    "        return year + '-' + str(int(week) - 1)\n",
    "    else:\n",
    "        return str(int(year) - 1) + '-52'\n",
    "\n",
    "df['year_week'] = df['time.year'].astype(int).astype(str) + '-' + df['time.weekofyear'].astype(int).astype(str)\n",
    "df['last_week'] = df['year_week'].apply(get_last_week)\n",
    "\n",
    "clim = ['year_week', 'vege.ndvi_ne', 'vege.ndvi_nw', 'vege.ndvi_se', 'vege.ndvi_sw', 'prec.precipitation_amt_mm',\n",
    "        'temp.reanalysis_air_temp_k', 'temp.reanalysis_avg_temp_k', 'temp.reanalysis_dew_point_temp_k', 'city',\n",
    "        'temp.reanalysis_max_air_temp_k', 'temp.reanalysis_min_air_temp_k', 'prec.reanalysis_precip_amt_kg_per_m2',\n",
    "        'humi.reanalysis_relative_humidity_percent', 'humi.reanalysis_specific_humidity_g_per_kg', 'vege.ndvi_total',\n",
    "        'temp.reanalysis_tdtr_k', 'temp.station_avg_temp_c', 'temp.station_diur_temp_rng_c', 'prec.station_precip_mm',\n",
    "        'temp.station_max_temp_c', 'temp.station_min_temp_c']\n",
    "\n",
    "cols = [(i + '_last_week') for i in clim]\n",
    "last_week = df[clim]\n",
    "last_week.columns = cols\n",
    "last_week = last_week.rename(columns={'year_week_last_week': 'last_week', 'city_last_week': 'city'})\n",
    "df = df.merge(last_week, how='left', on=['last_week','city'])\n",
    "\n",
    "df = df.drop(['last_week', 'year_week'], axis=1)\n",
    "\n",
    "# Guess missing values from last week\n",
    "sj_dict = df[df['city']==1].groupby('time.weekofyear').mean().fillna(method='ffill').to_dict()\n",
    "iq_dict = df[df['city']==-1].groupby('time.weekofyear').mean().fillna(method='ffill').to_dict()\n",
    "\n",
    "cols = list(df.columns)\n",
    "\n",
    "for i in cols:\n",
    "    if i != 'city' and i != 'y.total_cases' and i != 'time.weekofyear':\n",
    "        df[i] = np.where((df[i].isna() & df['city'] == 1), df['time.weekofyear'].replace(sj_dict[i]), df[i])\n",
    "        df[i] = np.where((df[i].isna() & df['city'] == -1), df['time.weekofyear'].replace(iq_dict[i]), df[i])\n",
    "\n",
    "# Drop remaining rows with empty values\n",
    "fts = list(df.drop('y.total_cases', axis=1).columns)\n",
    "df = df.dropna(subset=fts)"
   ]
  },
  {
   "cell_type": "code",
   "execution_count": 16,
   "metadata": {},
   "outputs": [
    {
     "name": "stdout",
     "output_type": "stream",
     "text": [
      "<class 'pandas.core.frame.DataFrame'>\n",
      "Int64Index: 1872 entries, 0 to 1871\n",
      "Data columns (total 50 columns):\n",
      "city                                                    1872 non-null int64\n",
      "humi.reanalysis_relative_humidity_percent               1872 non-null float64\n",
      "humi.reanalysis_relative_humidity_percent_last_week     1872 non-null float64\n",
      "humi.reanalysis_specific_humidity_g_per_kg              1872 non-null float64\n",
      "humi.reanalysis_specific_humidity_g_per_kg_last_week    1872 non-null float64\n",
      "prec.precipitation_amt_mm                               1872 non-null float64\n",
      "prec.precipitation_amt_mm_last_week                     1872 non-null float64\n",
      "prec.reanalysis_precip_amt_kg_per_m2                    1872 non-null float64\n",
      "prec.reanalysis_precip_amt_kg_per_m2_last_week          1872 non-null float64\n",
      "prec.station_precip_mm                                  1872 non-null float64\n",
      "prec.station_precip_mm_last_week                        1872 non-null float64\n",
      "temp.reanalysis_air_temp_k                              1872 non-null float64\n",
      "temp.reanalysis_air_temp_k_last_week                    1872 non-null float64\n",
      "temp.reanalysis_avg_temp_k                              1872 non-null float64\n",
      "temp.reanalysis_avg_temp_k_last_week                    1872 non-null float64\n",
      "temp.reanalysis_dew_point_temp_k                        1872 non-null float64\n",
      "temp.reanalysis_dew_point_temp_k_last_week              1872 non-null float64\n",
      "temp.reanalysis_max_air_temp_k                          1872 non-null float64\n",
      "temp.reanalysis_max_air_temp_k_last_week                1872 non-null float64\n",
      "temp.reanalysis_min_air_temp_k                          1872 non-null float64\n",
      "temp.reanalysis_min_air_temp_k_last_week                1872 non-null float64\n",
      "temp.reanalysis_tdtr_k                                  1872 non-null float64\n",
      "temp.reanalysis_tdtr_k_last_week                        1872 non-null float64\n",
      "temp.station_avg_temp_c                                 1872 non-null float64\n",
      "temp.station_avg_temp_c_last_week                       1872 non-null float64\n",
      "temp.station_diur_temp_rng_c                            1872 non-null float64\n",
      "temp.station_diur_temp_rng_c_last_week                  1872 non-null float64\n",
      "temp.station_max_temp_c                                 1872 non-null float64\n",
      "temp.station_max_temp_c_last_week                       1872 non-null float64\n",
      "temp.station_min_temp_c                                 1872 non-null float64\n",
      "temp.station_min_temp_c_last_week                       1872 non-null float64\n",
      "time.month                                              1872 non-null float64\n",
      "time.month_cos                                          1872 non-null float64\n",
      "time.month_sin                                          1872 non-null float64\n",
      "time.season                                             1872 non-null float64\n",
      "time.weekofyear                                         1872 non-null float64\n",
      "time.weekofyear_cos                                     1872 non-null float64\n",
      "time.weekofyear_sin                                     1872 non-null float64\n",
      "time.year                                               1872 non-null float64\n",
      "vege.ndvi_ne                                            1872 non-null float64\n",
      "vege.ndvi_ne_last_week                                  1872 non-null float64\n",
      "vege.ndvi_nw                                            1872 non-null float64\n",
      "vege.ndvi_nw_last_week                                  1872 non-null float64\n",
      "vege.ndvi_se                                            1872 non-null float64\n",
      "vege.ndvi_se_last_week                                  1872 non-null float64\n",
      "vege.ndvi_sw                                            1872 non-null float64\n",
      "vege.ndvi_sw_last_week                                  1872 non-null float64\n",
      "vege.ndvi_total                                         1872 non-null float64\n",
      "vege.ndvi_total_last_week                               1872 non-null float64\n",
      "y.total_cases                                           1456 non-null float64\n",
      "dtypes: float64(49), int64(1)\n",
      "memory usage: 745.9 KB\n"
     ]
    }
   ],
   "source": [
    "cols = list(df.columns)\n",
    "cols.sort()\n",
    "df = df[cols]\n",
    "df.info()"
   ]
  },
  {
   "cell_type": "markdown",
   "metadata": {},
   "source": [
    "1872 total\n",
    "416 to predict"
   ]
  },
  {
   "cell_type": "code",
   "execution_count": 20,
   "metadata": {},
   "outputs": [],
   "source": [
    "# Export to csv\n",
    "preds = df[df['y.total_cases'].isna()]\n",
    "preds.to_csv('dengue_prepared_predictions.csv', index=False)"
   ]
  },
  {
   "cell_type": "code",
   "execution_count": null,
   "metadata": {},
   "outputs": [],
   "source": []
  }
 ],
 "metadata": {
  "kernelspec": {
   "display_name": "Python 3",
   "language": "python",
   "name": "python3"
  },
  "language_info": {
   "codemirror_mode": {
    "name": "ipython",
    "version": 3
   },
   "file_extension": ".py",
   "mimetype": "text/x-python",
   "name": "python",
   "nbconvert_exporter": "python",
   "pygments_lexer": "ipython3",
   "version": "3.7.3"
  }
 },
 "nbformat": 4,
 "nbformat_minor": 2
}
